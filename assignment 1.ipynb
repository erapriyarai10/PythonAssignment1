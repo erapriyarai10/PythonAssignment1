{
 "cells": [
  {
   "cell_type": "markdown",
   "id": "fd94b133-f130-4bce-b3e0-74d9e6b21950",
   "metadata": {},
   "source": [
    "Ques.1 : Write a code to reverse a string"
   ]
  },
  {
   "cell_type": "code",
   "execution_count": 8,
   "id": "7811a7aa-1f53-4780-9a9e-0a20647d3c09",
   "metadata": {},
   "outputs": [
    {
     "name": "stdout",
     "output_type": "stream",
     "text": [
      "dlrow olleH\n"
     ]
    }
   ],
   "source": [
    "a =\"Hello world\"\n",
    "a = \"\".join(reversed(a))\n",
    "print(a)"
   ]
  },
  {
   "cell_type": "code",
   "execution_count": 13,
   "id": "b41f1f4e-abd5-4df3-9e8c-79305e186dc2",
   "metadata": {},
   "outputs": [
    {
     "data": {
      "text/plain": [
       "'dlrow olleH'"
      ]
     },
     "execution_count": 13,
     "metadata": {},
     "output_type": "execute_result"
    }
   ],
   "source": [
    "a[::-1]"
   ]
  },
  {
   "cell_type": "markdown",
   "id": "16fd74d5-5d14-422e-a054-adda44a94ab8",
   "metadata": {},
   "source": [
    "\n",
    " Ques 2 : write a code to count the number vowel in a string "
   ]
  },
  {
   "cell_type": "code",
   "execution_count": 2,
   "id": "0b7a5c5c-8f18-49e7-991c-fba36c28e4ea",
   "metadata": {},
   "outputs": [
    {
     "name": "stdout",
     "output_type": "stream",
     "text": [
      "7\n"
     ]
    }
   ],
   "source": [
    "a =\"Hello world ICECREAM\"\n",
    "b= 0\n",
    "for i in a:\n",
    "    if i in \"aeiouAEIOU\":\n",
    "        b = b+1\n",
    "print(b)"
   ]
  },
  {
   "cell_type": "markdown",
   "id": "53f7446e-f262-487f-89b6-1d6eaa643ac8",
   "metadata": {},
   "source": [
    " Ques 3 :Write a code to check the string is palidrome or not "
   ]
  },
  {
   "cell_type": "code",
   "execution_count": 48,
   "id": "eefdb9c9-a14a-4fc3-b86f-f03e09b737bb",
   "metadata": {},
   "outputs": [
    {
     "name": "stdout",
     "output_type": "stream",
     "text": [
      "madam\n",
      "palidrome\n"
     ]
    }
   ],
   "source": [
    "b =\"madam\"\n",
    "print(b)\n",
    "c=b[::-1]\n",
    "if b==c:\n",
    "    print(\"palidrome\")\n",
    "else:\n",
    "    print(\"not palidrome\")\n"
   ]
  },
  {
   "cell_type": "markdown",
   "id": "f1d9e5a7-4608-4f20-b2b9-4161c2028520",
   "metadata": {},
   "source": [
    "Ques 4: Write a code to check a string are anagram to each other"
   ]
  },
  {
   "cell_type": "code",
   "execution_count": 53,
   "id": "9e082e3f-4b55-4df7-9b26-fd95b456dd34",
   "metadata": {},
   "outputs": [
    {
     "name": "stdout",
     "output_type": "stream",
     "text": [
      "thin hint is anagram\n"
     ]
    }
   ],
   "source": [
    "a =\"thin\"\n",
    "b =\"hint\"\n",
    "c=sorted(a)\n",
    "d=sorted(b)\n",
    "if c==d:\n",
    "    print(a,b, \"is anagram\")\n",
    "else:\n",
    "    print(a,b, \"is not a anagram\")"
   ]
  },
  {
   "cell_type": "markdown",
   "id": "99cf5edf-8bc3-473f-976c-caf4365cb81d",
   "metadata": {},
   "source": [
    "Question 5: Write a code to find all occurence of agiven substring with another string"
   ]
  },
  {
   "cell_type": "code",
   "execution_count": 61,
   "id": "0596676a-5506-4f47-ba43-5939a8bc8d7b",
   "metadata": {},
   "outputs": [
    {
     "name": "stdout",
     "output_type": "stream",
     "text": [
      "to\n",
      "1\n"
     ]
    }
   ],
   "source": [
    "a = \"Write a code to find all occurence of agiven substring with another string\"\n",
    "b = \"to\" \n",
    "l = len(b)\n",
    "c=0\n",
    "for i in range(len(a)):\n",
    "    if a[i:i+l] == b:\n",
    "        print(a[i:i+l])\n",
    "        c+=1\n",
    "print(c)\n"
   ]
  },
  {
   "cell_type": "markdown",
   "id": "a4ddeaf6-aaf3-44ff-9184-f7f533e1688c",
   "metadata": {},
   "source": [
    "Ques 6:  Write a code to perform basic string compressing using the count of repeted characters"
   ]
  },
  {
   "cell_type": "code",
   "execution_count": 64,
   "id": "c3179abc-4f76-416b-a9d5-61c5fe01a950",
   "metadata": {},
   "outputs": [
    {
     "name": "stdout",
     "output_type": "stream",
     "text": [
      "a2b1c5a3\n"
     ]
    }
   ],
   "source": [
    "original_string = \"aabcccccaaa\"\n",
    "\n",
    "c = 1\n",
    "s = \"\"\n",
    "for i in range(len(original_string)-1):\n",
    "    if original_string[i] == original_string[i+1]:\n",
    "        c+=1\n",
    "    else:\n",
    "        s += original_string[i]\n",
    "        s += str(c)\n",
    "        c = 1\n",
    "s += original_string[i]\n",
    "s += str(c)\n",
    "print(s)"
   ]
  },
  {
   "cell_type": "markdown",
   "id": "eea760d1-ae21-43e5-8cb5-efc0310126a0",
   "metadata": {},
   "source": [
    "Ques 7: Wrte a code to determine all string has unique charecters"
   ]
  },
  {
   "cell_type": "code",
   "execution_count": 3,
   "id": "365e66fd-0fe0-4ca0-85ce-4b103da02d9b",
   "metadata": {},
   "outputs": [
    {
     "name": "stdout",
     "output_type": "stream",
     "text": [
      "given string have all unique characters\n"
     ]
    }
   ],
   "source": [
    "a = 'abcd'\n",
    "for i in a:\n",
    "    if a.count(i)>1:\n",
    "        print(\"given string does not have unique charecters\")\n",
    "        break\n",
    "else:\n",
    "    print(\"given string have all unique characters\")\n",
    "        "
   ]
  },
  {
   "cell_type": "markdown",
   "id": "a354b67d-a6a5-4740-b3d4-ae0a0fc55312",
   "metadata": {},
   "source": [
    "Ques 8: Write a code to convert a string into upper case or lower case"
   ]
  },
  {
   "cell_type": "code",
   "execution_count": 6,
   "id": "b5c9c161-362d-466f-a6bc-ad0606483cd9",
   "metadata": {},
   "outputs": [
    {
     "name": "stdout",
     "output_type": "stream",
     "text": [
      "uper case:  HELLO\n",
      "lower case:  hello\n"
     ]
    }
   ],
   "source": [
    "a = \"Hello\"\n",
    "print(\"uper case: \",a.upper())\n",
    "print(\"lower case: \", a.lower())"
   ]
  },
  {
   "cell_type": "markdown",
   "id": "cac017eb-f60b-4634-badf-5047710b4d2d",
   "metadata": {},
   "source": [
    "Ques 9: Write a code to count the number of words in a string"
   ]
  },
  {
   "cell_type": "code",
   "execution_count": 8,
   "id": "40c88c9b-40de-4aec-a35b-887cdbdf3823",
   "metadata": {},
   "outputs": [
    {
     "name": "stdout",
     "output_type": "stream",
     "text": [
      "12\n"
     ]
    }
   ],
   "source": [
    "a = \"Write a code to count the number of words in a string\"\n",
    "b = a.split(\" \")\n",
    "print(len(b))"
   ]
  },
  {
   "cell_type": "markdown",
   "id": "4e487fb6-b734-440b-b60c-6acbc7733018",
   "metadata": {},
   "source": [
    "Ques 10: Write a code to concatenate two string without using + operator"
   ]
  },
  {
   "cell_type": "code",
   "execution_count": 18,
   "id": "2b6621a8-af78-4c9a-9753-d0548b6d33ba",
   "metadata": {},
   "outputs": [
    {
     "name": "stdout",
     "output_type": "stream",
     "text": [
      "abcdbcjs\n"
     ]
    }
   ],
   "source": [
    "a = \"abcd\"\n",
    "b = \"bcjs\"\n",
    "c = f\"{a}{b}\"\n",
    "print(c)"
   ]
  },
  {
   "cell_type": "markdown",
   "id": "095ffcd7-ecdf-4468-9a14-4d574e0c678d",
   "metadata": {},
   "source": [
    "Ques 11: Write a code to remove all occurrence of a specific element of a list"
   ]
  },
  {
   "cell_type": "code",
   "execution_count": 19,
   "id": "b01b08bc-22cd-43c5-9b35-047203ed8fe4",
   "metadata": {},
   "outputs": [
    {
     "name": "stdout",
     "output_type": "stream",
     "text": [
      "[1, 3, 4, 5]\n"
     ]
    }
   ],
   "source": [
    "numbers = [1, 2, 3, 4, 2, 5, 2]\n",
    "item = 2\n",
    "res = []\n",
    "for i in numbers:\n",
    "    if i!=item:\n",
    "        res.append(i)\n",
    "print(res)"
   ]
  },
  {
   "cell_type": "code",
   "execution_count": 22,
   "id": "a46c4793-5530-44c4-af68-8f38e72ed2df",
   "metadata": {},
   "outputs": [
    {
     "name": "stdout",
     "output_type": "stream",
     "text": [
      "[1, 3, 4, 5]\n"
     ]
    }
   ],
   "source": [
    "numbers = [1, 2, 3, 4, 2, 5, 2]\n",
    "item = 2\n",
    "c = numbers.count(item)\n",
    "for i in range(c):\n",
    "    numbers.remove(item)\n",
    "print(numbers)"
   ]
  },
  {
   "cell_type": "markdown",
   "id": "43f2bc53-9226-4051-8b60-92bc7cd8599f",
   "metadata": {},
   "source": [
    "Ques 12: Implementation a code to find the second largest number in a given list of integer"
   ]
  },
  {
   "cell_type": "code",
   "execution_count": 8,
   "id": "6d20ebce-a65e-46b6-956a-37d8712a9fe7",
   "metadata": {},
   "outputs": [
    {
     "name": "stdout",
     "output_type": "stream",
     "text": [
      "11\n"
     ]
    }
   ],
   "source": [
    "a = [2,3,1,5,9,11,15]\n",
    "for i in range(1):\n",
    "    m = max(a)\n",
    "    a.remove(m)\n",
    "print(max(a))\n",
    "    "
   ]
  },
  {
   "cell_type": "markdown",
   "id": "879b8a03-6725-4922-aa56-b83a3bc415f9",
   "metadata": {},
   "source": [
    "Ques 13: Create a code to count the occurance of each element in list and return a dictinary with elements as key and their count as value"
   ]
  },
  {
   "cell_type": "code",
   "execution_count": 10,
   "id": "2ea76408-e7d6-4f34-ab09-e920f9681966",
   "metadata": {},
   "outputs": [
    {
     "name": "stdout",
     "output_type": "stream",
     "text": [
      "{2: 5, 3: 3, 1: 3, 5: 3, 9: 1, 11: 2, 15: 1, 32: 1, 4: 1}\n"
     ]
    }
   ],
   "source": [
    "a = [2,3,1,5,9,11,15,32,2,5,2,1,1,3,2,2,11,5,3,4]\n",
    "d = {}\n",
    "for i in a:\n",
    "    if i not in d.keys():\n",
    "        d[i] = 1\n",
    "    else:\n",
    "        d[i] = d[i] + 1\n",
    "print(d)"
   ]
  },
  {
   "cell_type": "markdown",
   "id": "3b7ba85c-e86c-46b3-88de-b9db818cfb00",
   "metadata": {},
   "source": [
    "Ques 14: write a code to reverse a list in place without using any built in reverse functions"
   ]
  },
  {
   "cell_type": "code",
   "execution_count": 23,
   "id": "08d39bd0-a68b-4a63-adbe-1f4f03b4a149",
   "metadata": {},
   "outputs": [
    {
     "name": "stdout",
     "output_type": "stream",
     "text": [
      "[15, 11, 9, 5, 1, 3, 2]\n"
     ]
    }
   ],
   "source": [
    "a = [2,3,1,5,9,11,15]\n",
    "a = a[::-1]\n",
    "print(a)"
   ]
  },
  {
   "cell_type": "markdown",
   "id": "70ce71a9-953a-4a97-9f68-96447528dc79",
   "metadata": {},
   "source": [
    "Ques 15: Implement a code to find and remove duplicate from a list while preserving the order of original element "
   ]
  },
  {
   "cell_type": "code",
   "execution_count": 27,
   "id": "ff39aebb-57c0-4700-9ee5-66033222376b",
   "metadata": {},
   "outputs": [
    {
     "name": "stdout",
     "output_type": "stream",
     "text": [
      "[2, 3, 1, 9, 5, 11, 15]\n"
     ]
    }
   ],
   "source": [
    "a = [2,3,1,9,5,5,3,2,9,11,15]\n",
    "d = {}\n",
    "for i in a:\n",
    "    d[i] =1\n",
    "print(list(d.keys()))"
   ]
  },
  {
   "cell_type": "markdown",
   "id": "5b0df760-2ec8-4282-af15-8e854b03ee4b",
   "metadata": {},
   "source": [
    "Ques 16: Create a code to check if a given list is sorted(either is assending or descending order) or not"
   ]
  },
  {
   "cell_type": "code",
   "execution_count": 33,
   "id": "c6c18578-d7d9-4ad5-8008-b34258ceca55",
   "metadata": {},
   "outputs": [
    {
     "name": "stdout",
     "output_type": "stream",
     "text": [
      "list is not in sorted order\n"
     ]
    }
   ],
   "source": [
    "a = [5,4,3,2,1,4]\n",
    "b = list(sorted(a))\n",
    "c = list(sorted(b, reverse = True))\n",
    "if a==b or a==c:\n",
    "    print(\"list is in sorted order\")\n",
    "else:\n",
    "    print(\"list is not in sorted order\")\n",
    "    "
   ]
  },
  {
   "cell_type": "markdown",
   "id": "e78bc886-7668-4010-8558-e294f2ee3cca",
   "metadata": {},
   "source": [
    "Ques 17: Write a code to merge two sorted lists into a single sorted list"
   ]
  },
  {
   "cell_type": "code",
   "execution_count": 35,
   "id": "63ef83f2-3373-44d9-b458-e65fa89f1ef7",
   "metadata": {},
   "outputs": [
    {
     "name": "stdout",
     "output_type": "stream",
     "text": [
      "[1, 2, 3, 4, 8, 9, 11, 24]\n"
     ]
    }
   ],
   "source": [
    "a = [1,2,8,9]\n",
    "b = [3,4,11,24]\n",
    "c = []\n",
    "i = 0\n",
    "j = 0\n",
    "while i<len(a) or j<len(b):\n",
    "    if i == len(a):\n",
    "        c.append(b[j])\n",
    "        j=j+1\n",
    "    elif j==len(b):\n",
    "        c.append(a[i])\n",
    "        i = i + 1\n",
    "    elif a[i]<b[j]:\n",
    "        c.append(a[i])\n",
    "        i = i+1\n",
    "    elif a[i]>b[j]:\n",
    "        c.append(b[j])\n",
    "        j = j+1\n",
    "    elif a[i] == b[j]:\n",
    "        c.append(a[i])\n",
    "        c.append(b[j])\n",
    "        i = i+ 1\n",
    "        j = j+ 1\n",
    "print(c)\n",
    "        "
   ]
  },
  {
   "cell_type": "markdown",
   "id": "cf1b3af0-31e4-47bb-ad17-07172ce4dca0",
   "metadata": {},
   "source": [
    "Ques 18: Implement a code to find the intersection of two lists with duplicates"
   ]
  },
  {
   "cell_type": "code",
   "execution_count": 40,
   "id": "f2657abc-71a3-443e-bdbb-55162906fd4f",
   "metadata": {},
   "outputs": [
    {
     "name": "stdout",
     "output_type": "stream",
     "text": [
      "[3, 4, 9]\n"
     ]
    }
   ],
   "source": [
    "a = [1,2,3,3,4,4,4,8,9]\n",
    "b = [3,4,9,11,24]\n",
    "c = []\n",
    "for i in a:\n",
    "    if i in b:\n",
    "        c.append(i)\n",
    "        b.remove(i)\n",
    "print(c)\n"
   ]
  },
  {
   "cell_type": "markdown",
   "id": "c362d59a-3175-4434-bd99-962a528a74f2",
   "metadata": {},
   "source": [
    "Ques 19: Create a code to find the union of two list without duplicats"
   ]
  },
  {
   "cell_type": "code",
   "execution_count": 41,
   "id": "edab88f0-4d62-44c1-bac8-845bf64a18ba",
   "metadata": {},
   "outputs": [
    {
     "name": "stdout",
     "output_type": "stream",
     "text": [
      "[1, 2, 3, 4, 8, 9, 11, 24]\n"
     ]
    }
   ],
   "source": [
    "a = [1,2,3,3,4,4,4,8,9]\n",
    "b = [3,4,9,11,24]\n",
    "a = set(a)\n",
    "b = set(b)\n",
    "c = a.union(b)\n",
    "print(list(c))"
   ]
  },
  {
   "cell_type": "markdown",
   "id": "507fd40d-5e28-408d-a287-6f7f361a7cd6",
   "metadata": {},
   "source": [
    "Ques 20: Write a code to shuffle a given list randomly without using any built-in shuffle functions"
   ]
  },
  {
   "cell_type": "code",
   "execution_count": 43,
   "id": "eaa26433-c9ca-4629-8bc1-fa19c89cde26",
   "metadata": {},
   "outputs": [
    {
     "name": "stdout",
     "output_type": "stream",
     "text": [
      "[9, 3, 11, 24, 4]\n"
     ]
    }
   ],
   "source": [
    "import random\n",
    "b = [3,4,9,11,24]\n",
    "l = len(b)\n",
    "for i in range(l):\n",
    "    j = random.randint(0, l-1)\n",
    "    b[i],b[j] = b[j], b[i]\n",
    "print(b)\n",
    "\n",
    "    "
   ]
  },
  {
   "cell_type": "markdown",
   "id": "80a7baf3-0841-461f-9676-b72823affca3",
   "metadata": {},
   "source": [
    "Ques 21:  Write a code that takes two tuple as input and return a new tuple contaiing element that are\n",
    "containing elements that are common to both input tuple"
   ]
  },
  {
   "cell_type": "code",
   "execution_count": 45,
   "id": "964509ad-316a-48df-ae0b-08d7c7dfdb64",
   "metadata": {},
   "outputs": [
    {
     "data": {
      "text/plain": [
       "(9, ('m', 'v'))"
      ]
     },
     "execution_count": 45,
     "metadata": {},
     "output_type": "execute_result"
    }
   ],
   "source": [
    "tpl1 = (4, 'v', (1, 3), 9, 8, ('m', 'v'))\n",
    "tpl2 = (7, 6, (3, 1), 5, 9, ('m', 'v'))\n",
    "tpl3 = tuple()\n",
    "for i in tpl1:\n",
    "    if i in tpl2:\n",
    "        tpl3 = tpl3 + (i,)\n",
    "tpl3"
   ]
  },
  {
   "cell_type": "markdown",
   "id": "aa5f9d4a-187d-4f83-8b42-7089fd9f89a7",
   "metadata": {},
   "source": [
    "Ques 22: "
   ]
  },
  {
   "cell_type": "code",
   "execution_count": 55,
   "id": "68c50b3f-3edb-4927-8247-f9245290225f",
   "metadata": {},
   "outputs": [
    {
     "name": "stdin",
     "output_type": "stream",
     "text": [
      " 1,2,3,4,5\n",
      " 3,4,5,6,7\n"
     ]
    },
    {
     "name": "stdout",
     "output_type": "stream",
     "text": [
      "{3, 4, 5}\n"
     ]
    }
   ],
   "source": [
    "set1 = set(map(int,input().split(\",\")))\n",
    "set2 = set(map(int,input().split(\",\")))\n",
    "print(set1.intersection(set2))"
   ]
  },
  {
   "cell_type": "markdown",
   "id": "39ebd39c-8f86-45b8-8eae-c40b20415fdf",
   "metadata": {},
   "source": [
    "Ques 23:"
   ]
  },
  {
   "cell_type": "code",
   "execution_count": 56,
   "id": "a3584859-69a0-434f-b76a-e1d7e5e6c861",
   "metadata": {},
   "outputs": [
    {
     "name": "stdin",
     "output_type": "stream",
     "text": [
      " 1,2,3,4\n",
      " 2,3,4,5\n"
     ]
    },
    {
     "name": "stdout",
     "output_type": "stream",
     "text": [
      "(1, 2, 3, 4, 2, 3, 4, 5)\n"
     ]
    }
   ],
   "source": [
    "tup1 = tuple(map(int,input().split(\",\")))\n",
    "tup2 = tuple(map(int,input().split(\",\")))\n",
    "tup3 = tup1 + tup2\n",
    "print(tup3)"
   ]
  },
  {
   "cell_type": "markdown",
   "id": "c0bc5d1d-ca90-4c05-98c2-3e9dab3e7b3c",
   "metadata": {},
   "source": [
    "Ques 24:"
   ]
  },
  {
   "cell_type": "code",
   "execution_count": 57,
   "id": "b027e656-4c5e-440b-9dde-84856f317c14",
   "metadata": {},
   "outputs": [
    {
     "name": "stdin",
     "output_type": "stream",
     "text": [
      " dhfhghg\n",
      " djfjhfh\n"
     ]
    },
    {
     "name": "stdout",
     "output_type": "stream",
     "text": [
      "{'f', 'h', 'd', 'g'}\n"
     ]
    }
   ],
   "source": [
    "set1 = set(input())\n",
    "set2 = set(input())\n",
    "print(set1)"
   ]
  },
  {
   "cell_type": "markdown",
   "id": "521d1468-2f51-4d38-bbb4-c88840591268",
   "metadata": {},
   "source": [
    "Ques 25:"
   ]
  },
  {
   "cell_type": "code",
   "execution_count": 59,
   "id": "1d832c5d-e0dd-4c1f-b7e3-bae99b4d1277",
   "metadata": {},
   "outputs": [
    {
     "name": "stdin",
     "output_type": "stream",
     "text": [
      " 1,23,3,4,5,6,4,3,3\n",
      " 4\n",
      " 7\n"
     ]
    },
    {
     "name": "stdout",
     "output_type": "stream",
     "text": [
      "(5, 6, 4)\n"
     ]
    }
   ],
   "source": [
    "tup = tuple(map(int,input().split(\",\")))\n",
    "idx1 = int(input())\n",
    "idx2 = int(input())\n",
    "print(tup[idx1:idx2])"
   ]
  },
  {
   "cell_type": "markdown",
   "id": "e4984403-7e2c-48ec-b6e0-bfd5eeff1cfb",
   "metadata": {},
   "source": [
    "Ques 26:"
   ]
  },
  {
   "cell_type": "code",
   "execution_count": 62,
   "id": "97949ed1-cfd0-4313-a266-292698838df8",
   "metadata": {},
   "outputs": [
    {
     "name": "stdin",
     "output_type": "stream",
     "text": [
      " fhsksjs\n",
      " fjdjsvv\n"
     ]
    },
    {
     "name": "stdout",
     "output_type": "stream",
     "text": [
      "{'j', 'h', 'v', 'k', 'd', 's', 'f'}\n"
     ]
    }
   ],
   "source": [
    "set1 = set(input())\n",
    "set2 = set(input())\n",
    "print(set1.union(set2))"
   ]
  },
  {
   "cell_type": "markdown",
   "id": "afd8e87d-b6d0-48d5-b3cb-fa6ded42d66b",
   "metadata": {},
   "source": [
    "Ques 27:"
   ]
  },
  {
   "cell_type": "code",
   "execution_count": 63,
   "id": "e53b9ab9-311c-4a03-b0dc-c4e5c23b5d60",
   "metadata": {},
   "outputs": [
    {
     "name": "stdin",
     "output_type": "stream",
     "text": [
      " 1,2,3,4,3,5,2\n"
     ]
    },
    {
     "name": "stdout",
     "output_type": "stream",
     "text": [
      "(5, 1)\n"
     ]
    }
   ],
   "source": [
    "tup = tuple(map(int,input().split(\",\")))\n",
    "val = max(tup), min(tup)\n",
    "print(val)"
   ]
  },
  {
   "cell_type": "markdown",
   "id": "4231f78f-3bd5-4d24-aa03-d05d63d5e73e",
   "metadata": {},
   "source": [
    "Ques 28:\n"
   ]
  },
  {
   "cell_type": "code",
   "execution_count": 68,
   "id": "018f0305-fe35-4681-b7a6-6f78a619b647",
   "metadata": {},
   "outputs": [
    {
     "name": "stdout",
     "output_type": "stream",
     "text": [
      "{3, 4, 5} {1, 2, 3, 4, 5, 6, 7} {1, 2}\n"
     ]
    }
   ],
   "source": [
    "set1 = {1,2,3,4,5}\n",
    "set2 = {3,4,5,6,7}\n",
    "inter = set1.intersection(set2)\n",
    "uni = set1.union(set2)\n",
    "diff = set1.difference(set2)\n",
    "print(inter, uni, diff)"
   ]
  },
  {
   "cell_type": "markdown",
   "id": "e8a438f3-3cb3-4727-96d5-3ac0ed07905f",
   "metadata": {},
   "source": [
    "Ques 29:"
   ]
  },
  {
   "cell_type": "code",
   "execution_count": 70,
   "id": "1a3e01f9-4c67-4e2d-afc2-8f320d310c59",
   "metadata": {},
   "outputs": [
    {
     "name": "stdin",
     "output_type": "stream",
     "text": [
      " 1,2,3,4,3,2,3,4,5\n",
      " 2\n"
     ]
    },
    {
     "name": "stdout",
     "output_type": "stream",
     "text": [
      "2\n"
     ]
    }
   ],
   "source": [
    "tup = tuple(map(int,input().split(\",\")))\n",
    "val = int(input())\n",
    "print(tup.count(val))"
   ]
  },
  {
   "cell_type": "markdown",
   "id": "cd390dc0-061d-41f8-842f-b5c5c5e948b8",
   "metadata": {},
   "source": [
    "Ques 30:"
   ]
  },
  {
   "cell_type": "code",
   "execution_count": 72,
   "id": "6a2760ac-9f6b-4320-b4a2-deb4f2ab58d0",
   "metadata": {},
   "outputs": [
    {
     "name": "stdin",
     "output_type": "stream",
     "text": [
      " abcde\n",
      " bcdef\n"
     ]
    },
    {
     "name": "stdout",
     "output_type": "stream",
     "text": [
      "{'a', 'f'}\n"
     ]
    }
   ],
   "source": [
    "set1 = set(input())\n",
    "set2 = set(input())\n",
    "\n",
    "print(set1.symmetric_difference(set2))"
   ]
  },
  {
   "cell_type": "markdown",
   "id": "483c5e25-d77a-44e0-b1ec-8fe31bebe926",
   "metadata": {},
   "source": [
    "Ques 31:"
   ]
  },
  {
   "cell_type": "code",
   "execution_count": 73,
   "id": "2ede498d-e772-4348-baaf-40f4c82ef9bc",
   "metadata": {},
   "outputs": [
    {
     "name": "stdin",
     "output_type": "stream",
     "text": [
      " Certainly! In Python, the symmetric difference between two sets refers to the set of elements that are present in either of the two sets, but not common to both sets. Let’s break it down\n"
     ]
    },
    {
     "name": "stdout",
     "output_type": "stream",
     "text": [
      "{'Certainly!': 1, 'In': 1, 'Python,': 1, 'the': 3, 'symmetric': 1, 'difference': 1, 'between': 1, 'two': 2, 'sets': 1, 'refers': 1, 'to': 2, 'set': 1, 'of': 2, 'elements': 1, 'that': 1, 'are': 1, 'present': 1, 'in': 1, 'either': 1, 'sets,': 1, 'but': 1, 'not': 1, 'common': 1, 'both': 1, 'sets.': 1, 'Let’s': 1, 'break': 1, 'it': 1, 'down': 1}\n"
     ]
    }
   ],
   "source": [
    "s = input()\n",
    "words = s.split()\n",
    "d = {}\n",
    "for word in words:\n",
    "    if word not in d.keys():\n",
    "        d[word] = 1\n",
    "    else:\n",
    "        d[word] = d[word] + 1\n",
    "print(d)"
   ]
  },
  {
   "cell_type": "markdown",
   "id": "920203db-e0f3-48d8-96b1-09a6eee86fc1",
   "metadata": {},
   "source": [
    "Ques 32:"
   ]
  },
  {
   "cell_type": "code",
   "execution_count": 74,
   "id": "55e2ab4f-1505-4bea-8a7f-2fbe383aa188",
   "metadata": {},
   "outputs": [
    {
     "name": "stdout",
     "output_type": "stream",
     "text": [
      "{'a': 22, 'for': 325, 'c': 9, 'Geeks': 100, 'geek': 200}\n"
     ]
    }
   ],
   "source": [
    "dict1 = {'a': 12, 'for': 25, 'c': 9}\n",
    "dict2 = {'Geeks': 100, 'geek': 200, 'for': 300,'a':10}\n",
    "for key in dict2.keys():\n",
    "    if key in dict1.keys():\n",
    "        dict1[key] = dict1[key] + dict2[key]\n",
    "    else:\n",
    "        dict1[key] = dict2[key]\n",
    "print(dict1)"
   ]
  },
  {
   "cell_type": "markdown",
   "id": "66d0b308-fcb6-444d-9db8-95aec9154073",
   "metadata": {},
   "source": [
    "Ques 33:"
   ]
  },
  {
   "cell_type": "code",
   "execution_count": null,
   "id": "8bbaf882-9107-4ec2-8576-eb2b129e17b1",
   "metadata": {},
   "outputs": [],
   "source": []
  }
 ],
 "metadata": {
  "kernelspec": {
   "display_name": "Python 3 (ipykernel)",
   "language": "python",
   "name": "python3"
  },
  "language_info": {
   "codemirror_mode": {
    "name": "ipython",
    "version": 3
   },
   "file_extension": ".py",
   "mimetype": "text/x-python",
   "name": "python",
   "nbconvert_exporter": "python",
   "pygments_lexer": "ipython3",
   "version": "3.10.8"
  }
 },
 "nbformat": 4,
 "nbformat_minor": 5
}
